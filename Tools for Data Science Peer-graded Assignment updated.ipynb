{
 "cells": [
  {
   "cell_type": "markdown",
   "id": "faf745f0",
   "metadata": {},
   "source": [
    "<H1>My Jupyter Notebook on IBM Watson Studio<H1>"
   ]
  },
  {
   "cell_type": "markdown",
   "id": "e3a92563",
   "metadata": {},
   "source": [
    "<b>Steven C </b><br>Test Engineer"
   ]
  },
  {
   "cell_type": "markdown",
   "id": "d00ce2ec",
   "metadata": {},
   "source": [
    "<i>My interest in data science stems from my current role as an electrical test engineer. As we characterise and understand the performance of new products, we need to use measured data to adjust and improve preformance of key parameters. Additionally as products mature, we want to use legacy data to model how changes to certain processes and designs may influence perforamce. <i>"
   ]
  },
  {
   "cell_type": "markdown",
   "id": "ecea0c6a",
   "metadata": {},
   "source": [
    "<h3>The code displays today's time and date in dd/mm/yy hh/mm/ss format</h3> "
   ]
  },
  {
   "cell_type": "code",
   "execution_count": 3,
   "id": "13732add",
   "metadata": {},
   "outputs": [
    {
     "name": "stdout",
     "output_type": "stream",
     "text": [
      "Today's Date and Time is  2022-01-23 16:50:47.026501\n"
     ]
    }
   ],
   "source": [
    "import datetime \n",
    "now = datetime.now()\n",
    "now = now.strftime(\"%d/%m/%Y %H:%M:%S\")\n",
    "print(\"Today's Date and Time is \" , now)"
   ]
  },
  {
   "cell_type": "markdown",
   "id": "670b3f79",
   "metadata": {},
   "source": [
    "<html>\n",
    "<header>\n",
    "</header>\n",
    "\n",
    "<body>\n",
    "    <section>\n",
    "        <h1> Most Populated Countries</h1>\n",
    "        <ol>\n",
    "            <li>China</li>\n",
    "            <li>India</li>\n",
    "            <li>United States of America</li>\n",
    "            <li>Indonesia</li>\n",
    "            <li>Pakistan</li>\n",
    "        </ol>\n",
    "        <hr>\n",
    "        <table border=\"1px\">\n",
    "            <tr>\n",
    "                <td><b>Country</b></td>\n",
    "                <td><b>Capital</b></td>\n",
    "            </tr>\n",
    "            <tr>\n",
    "                <td>China</td>\n",
    "                <td>Beijing</td>\n",
    "            </tr>\n",
    "            <tr>\n",
    "                <td>India</td>\n",
    "                <td>New Delhi</td>\n",
    "            </tr>\n",
    "            <tr>\n",
    "                <td>United States of America</td>\n",
    "                <td>Washington DC</td>\n",
    "            </tr>\n",
    "            <tr>\n",
    "                <td>Indonesia</td>\n",
    "                <td>Jakarta</td>\n",
    "            </tr>\n",
    "            <tr>\n",
    "                <td>Pakistan</td>\n",
    "                <td>Islamabad</td>\n",
    "            </tr>\n",
    "        </table>\n",
    "        <br>\n",
    "        <hr>\n",
    "    </section>\n",
    "    <footer>\n",
    "        <a href=\"https://github.com//\">https://github.com/</a>\n",
    "    </footer>\n",
    "</body>\n",
    "</html>"
   ]
  },
  {
   "cell_type": "markdown",
   "id": "ad581afd",
   "metadata": {},
   "source": []
  },
  {
   "cell_type": "code",
   "execution_count": null,
   "id": "c01b902a",
   "metadata": {},
   "outputs": [],
   "source": []
  }
 ],
 "metadata": {
  "kernelspec": {
   "display_name": "Python 3 (ipykernel)",
   "language": "python",
   "name": "python3"
  },
  "language_info": {
   "codemirror_mode": {
    "name": "ipython",
    "version": 3
   },
   "file_extension": ".py",
   "mimetype": "text/x-python",
   "name": "python",
   "nbconvert_exporter": "python",
   "pygments_lexer": "ipython3",
   "version": "3.9.7"
  }
 },
 "nbformat": 4,
 "nbformat_minor": 5
}
